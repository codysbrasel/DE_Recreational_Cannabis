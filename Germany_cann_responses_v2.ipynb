{
 "cells": [
  {
   "cell_type": "code",
   "execution_count": null,
   "id": "18ad3b77",
   "metadata": {},
   "outputs": [],
   "source": [
    "import pandas as pd\n",
    "import numpy as np\n",
    "import matplotlib.pyplot as plt\n",
    "import seaborn as sns\n",
    "import statsmodels.formula.api as sm\n"
   ]
  },
  {
   "cell_type": "markdown",
   "id": "99a66047",
   "metadata": {},
   "source": [
    "### Read in the master file"
   ]
  },
  {
   "cell_type": "code",
   "execution_count": null,
   "id": "04d4c79b",
   "metadata": {
    "scrolled": true
   },
   "outputs": [],
   "source": [
    "# read in the file\n",
    "df = pd.read_csv('./data/aa_master.csv', skiprows=4, encoding= 'unicode_escape')\n",
    "df"
   ]
  },
  {
   "cell_type": "markdown",
   "id": "7ffbe6ea",
   "metadata": {},
   "source": [
    "### Test with Bundesland"
   ]
  },
  {
   "cell_type": "code",
   "execution_count": null,
   "id": "78be349c",
   "metadata": {},
   "outputs": [],
   "source": [
    "df = pd.read_csv('./data/4_bundesland.csv', skiprows=3, encoding= 'unicode_escape', header=[1])\n",
    "df.columns"
   ]
  },
  {
   "cell_type": "code",
   "execution_count": null,
   "id": "80ee945c",
   "metadata": {},
   "outputs": [],
   "source": [
    "idx_dict = {'Gender': ['Male', 'Female'], \n",
    "            'Age':['18-24', '25-34', '35-44','45-54', '55-64', '65+'], \n",
    "            'Region Germany':['Baden-Württemberg', 'Bayern', 'Berlin','Brandenburg', 'Bremen', 'Hamburg', \n",
    "                      'Hessen', 'Mecklenburg-Vorpommern','Niedersachsen', 'Nordrhein-Westfalen', \n",
    "                      'Rheinland-Pfalz', 'Saarland','Sachsen-Anhalt', 'Schleswig-Holstein', 'Thüringen'], \n",
    "            'Employment status':['Full-time paid job (31+ hours)','Part-time (<31 hours)', 'Jobseeker/temporarily unemployed',\n",
    "                                 'Not working or seeking work', 'Student', 'Out of work','Looking after home/Homemaker', \n",
    "                                 'Retired', 'Full time carer'], \n",
    "            'Occupation': ['High managerial, administrative or professional e.g. doctor, lawyer, medium / large company director (50+ people)',\n",
    "                           'Intermediate managerial, administrative or professional e.g. teacher, manager, accountant',\n",
    "                           'Supervisor, administrative or professional e.g. police officer, nurse, secretary, self-employed',\n",
    "                           'Skilled manual worker e.g. mechanic, plumber, electrician, lorry driver, train driver',\n",
    "                           'Semi-skilled or unskilled manual worker e.g. waiter, factory worker, receptionist, labourer',\n",
    "                           'House-wife / house-husband', 'Unemployed', 'Student.1', 'Retired.1'],\n",
    "            'Social Grade': ['A', 'B', 'C1', 'C2', 'D', 'E'], \n",
    "            'Area': ['City/town centre', 'Estate/other urban', 'Suburban', 'Market Town/Rural', 'Remote/Rural'], \n",
    "            'Support/Oppose': ['Support the legalisation of recreational cannabis', \n",
    "                               'Oppose the legalisation of recreational cannabis'],\n",
    "            'Personally try it':['Those who would personally consider trying legal cannabis',\n",
    "                                 'Those who would not personally consider trying legal cannabis'], \n",
    "            'Benefits and disadvantages to legalising cannabis': ['Those who believe there are no benefits to legalising cannabis',\n",
    "                                                                  'Those who believe there are no disadvantages to legalising cannabis']}"
   ]
  },
  {
   "cell_type": "code",
   "execution_count": null,
   "id": "f8901db3",
   "metadata": {
    "scrolled": false
   },
   "outputs": [],
   "source": [
    "df_try = df[['Those who would personally consider trying legal cannabis']]\n",
    "df_try"
   ]
  },
  {
   "cell_type": "markdown",
   "id": "bde58241",
   "metadata": {},
   "source": [
    "# Melt with master dataset"
   ]
  },
  {
   "cell_type": "code",
   "execution_count": null,
   "id": "f636bcad",
   "metadata": {},
   "outputs": [],
   "source": [
    "df = pd.read_csv('./data/aa_master_questionresponse.csv', encoding= 'unicode_escape', skiprows=1)\n",
    "df"
   ]
  },
  {
   "cell_type": "markdown",
   "id": "88694105",
   "metadata": {},
   "source": [
    "#### Grouping each column header under a \"master\" e.g. Gender with responses in the column being 'Male', 'Female'"
   ]
  },
  {
   "cell_type": "code",
   "execution_count": null,
   "id": "8fcf298d",
   "metadata": {},
   "outputs": [],
   "source": [
    "idx_dict = {'gender': ['Male', 'Female'],\n",
    "            'age': ['18-24', '25-34', '35-44', '45-54', '55-64', '65+'],\n",
    "            'employment status': ['Full-time paid job (31+ hours)', 'Part-time (<31 hours)',\n",
    "                               'Jobseeker/temporarily unemployed', 'Not working or seeking work',\n",
    "                               'Student', 'Out of work', 'Looking after home/Homemaker', 'Retired',\n",
    "                               'Full time carer'],\n",
    "            'occupation': ['High managerial, administrative or professional',\n",
    "                       'Intermediate managerial, administrative or professional',\n",
    "                       'Supervisor, administrative or professional ', 'Skilled manual worker',\n",
    "                       'Semi-skilled or unskilled manual worker', 'House-wife / house-husband',\n",
    "                       'Unemployed', 'Student.1', 'Retired.1'],\n",
    "            'social grade': ['A', 'B', 'C1', 'C2', 'D', 'E'],\n",
    "            'area': ['City/town centre', 'Estate/other urban', 'Suburban',\n",
    "                   'Market Town/Rural', 'Remote/Rural'],\n",
    "            'support/oppose': ['Support legalisation','Oppose legalisation'],\n",
    "            'personally try it?': ['Would personally try legal cannabis',\n",
    "                               'Would NOT personally try legal cannabis'],\n",
    "            'benefits/no benefits to legalising': ['No benefits to legalising cannabis',\n",
    "                                           'Only benefits to legalising cannabis']\n",
    "           }"
   ]
  },
  {
   "cell_type": "code",
   "execution_count": null,
   "id": "0fd910f6",
   "metadata": {},
   "outputs": [],
   "source": [
    "df_a = df\n",
    "df_a"
   ]
  },
  {
   "cell_type": "code",
   "execution_count": null,
   "id": "4a64a81d",
   "metadata": {
    "scrolled": true
   },
   "outputs": [],
   "source": [
    "list(df_a.columns)"
   ]
  },
  {
   "cell_type": "code",
   "execution_count": null,
   "id": "265d9be4",
   "metadata": {
    "scrolled": true
   },
   "outputs": [],
   "source": [
    "# initiating a list of columns to keep\n",
    "colindex = list(df_a.columns)\n",
    "\n",
    "# removing totals and subtotals\n",
    "colindex.remove('Total')\n",
    "colindex.remove('Summary: Employed (full/part time)')\n",
    "colindex.remove('NET: ABC1')\n",
    "colindex.remove('NET: C2DE')\n",
    "colindex"
   ]
  },
  {
   "cell_type": "code",
   "execution_count": null,
   "id": "0362bc6a",
   "metadata": {},
   "outputs": [],
   "source": [
    "df_b = df_a.drop(columns=['Total','Summary: Employed (full/part time)','NET: ABC1', 'NET: C2DE'])\n",
    "df_b.columns"
   ]
  },
  {
   "cell_type": "code",
   "execution_count": null,
   "id": "52676eb1",
   "metadata": {
    "scrolled": true
   },
   "outputs": [],
   "source": [
    "# iterating over the dictionary\n",
    "for key, values in idx_dict.items():\n",
    "    # removing column names I want to melt from the \"columns-to-keep\"-list\n",
    "    for item in values:\n",
    "        colindex.remove(item)\n",
    "    df_b = df_b.melt(id_vars=colindex, \n",
    "                     var_name=key, \n",
    "                     value_vars=['Question.Response',\n",
    "                                 'Male',\n",
    "                                 'Female',\n",
    "                                 '18-24',\n",
    "                                 '25-34',\n",
    "                                 '35-44',\n",
    "                                 '45-54',\n",
    "                                 '55-64',\n",
    "                                 '65+',\n",
    "                                 'Baden-Württemberg',\n",
    "                                 'Bayern',\n",
    "                                 'Berlin',\n",
    "                                 'Brandenburg',\n",
    "                                 'Bremen',\n",
    "                                 'Hamburg',\n",
    "                                 'Hessen',\n",
    "                                 'Mecklenburg-Vorpommern',\n",
    "                                 'Niedersachsen',\n",
    "                                 'Nordrhein-Westfalen',\n",
    "                                 'Rheinland-Pfalz',\n",
    "                                 'Saarland',\n",
    "                                 'Sachsen-Anhalt',\n",
    "                                 'Schleswig-Holstein',\n",
    "                                 'Thüringen',\n",
    "                                 'Full-time paid job (31+ hours)',\n",
    "                                 'Part-time (<31 hours)',\n",
    "                                 'Jobseeker/temporarily unemployed',\n",
    "                                 'Not working or seeking work',\n",
    "                                 'Student',\n",
    "                                 'Out of work',\n",
    "                                 'Looking after home/Homemaker',\n",
    "                                 'Retired',\n",
    "                                 'Full time carer',\n",
    "                                 'High managerial, administrative or professional',\n",
    "                                 'Intermediate managerial, administrative or professional',\n",
    "                                 'Supervisor, administrative or professional ',\n",
    "                                 'Skilled manual worker',\n",
    "                                 'Semi-skilled or unskilled manual worker',\n",
    "                                 'House-wife / house-husband',\n",
    "                                 'Unemployed',\n",
    "                                 'Student.1',\n",
    "                                 'Retired.1',\n",
    "                                 'A',\n",
    "                                 'B',\n",
    "                                 'C1',\n",
    "                                 'C2',\n",
    "                                 'D',\n",
    "                                 'E',\n",
    "                                 'City/town centre',\n",
    "                                 'Estate/other urban',\n",
    "                                 'Suburban',\n",
    "                                 'Market Town/Rural',\n",
    "                                 'Remote/Rural',\n",
    "                                 'Support legalisation',\n",
    "                                 'Oppose legalisation',\n",
    "                                 'Would personally try legal cannabis',\n",
    "                                 'Would NOT personally try legal cannabis',\n",
    "                                 'No benefits to legalising cannabis',\n",
    "                                 'Only benefits to legalising cannabis'])\n",
    "    colindex.append(key)"
   ]
  },
  {
   "cell_type": "markdown",
   "id": "2b2e8e25",
   "metadata": {},
   "source": [
    "# Determined not possible to melt the data with its current struture\n",
    "## Data was given as \"counts\" to each response, rather than intividual entries per respondent. And with this data slightly cleaned was enough to visualize in Tableau. \n",
    "\n",
    "# Learning: ensure data is in its rawest form - individual entries as survey responses. With this you can compare metrics and manipulate the data in many visualizations."
   ]
  },
  {
   "cell_type": "code",
   "execution_count": null,
   "id": "74652253",
   "metadata": {},
   "outputs": [],
   "source": []
  }
 ],
 "metadata": {
  "kernelspec": {
   "display_name": "Python 3 (ipykernel)",
   "language": "python",
   "name": "python3"
  },
  "language_info": {
   "codemirror_mode": {
    "name": "ipython",
    "version": 3
   },
   "file_extension": ".py",
   "mimetype": "text/x-python",
   "name": "python",
   "nbconvert_exporter": "python",
   "pygments_lexer": "ipython3",
   "version": "3.10.8"
  }
 },
 "nbformat": 4,
 "nbformat_minor": 5
}
